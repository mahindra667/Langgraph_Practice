{
 "cells": [
  {
   "cell_type": "code",
   "execution_count": 1,
   "id": "5a070425",
   "metadata": {},
   "outputs": [
    {
     "name": "stderr",
     "output_type": "stream",
     "text": [
      "/Users/gogreen/Library/Python/3.9/lib/python/site-packages/urllib3/__init__.py:35: NotOpenSSLWarning: urllib3 v2 only supports OpenSSL 1.1.1+, currently the 'ssl' module is compiled with 'LibreSSL 2.8.3'. See: https://github.com/urllib3/urllib3/issues/3020\n",
      "  warnings.warn(\n"
     ]
    }
   ],
   "source": [
    "from typing import TypedDict, List\n",
    "from langgraph.graph import StateGraph"
   ]
  },
  {
   "cell_type": "code",
   "execution_count": 2,
   "id": "5532f58d",
   "metadata": {},
   "outputs": [],
   "source": [
    "class AgentState(TypedDict):\n",
    "    values: List[int]\n",
    "    name: str\n",
    "    result: str\n",
    "    "
   ]
  },
  {
   "cell_type": "code",
   "execution_count": null,
   "id": "6c332b81",
   "metadata": {},
   "outputs": [],
   "source": [
    "def process_values(state: AgentState) -> AgentState:\n",
    "    \"\"\"This process handles multiple different inputs\"\"\"\n",
    "    \n",
    "    print(state)\n",
    "    state[\"result\"] = f\"Hi there {state['name']}! Your sum = {sum(state['values'])}\"\n",
    "    \n",
    "    print(state)\n",
    "    return state\n"
   ]
  },
  {
   "cell_type": "code",
   "execution_count": 22,
   "id": "27e2964f",
   "metadata": {},
   "outputs": [],
   "source": [
    "graph = StateGraph(AgentState)\n",
    "\n",
    "graph.add_node(\"processor\", process_values)\n",
    "\n",
    "graph.set_entry_point(\"processor\")\n",
    "graph.set_finish_point(\"processor\")\n",
    "\n",
    "app = graph.compile()\n",
    "\n"
   ]
  },
  {
   "cell_type": "code",
   "execution_count": 23,
   "id": "c9a66e69",
   "metadata": {},
   "outputs": [
    {
     "data": {
      "image/png": "[encoded data removed]",
      "text/plain": [
       "<IPython.core.display.Image object>"
      ]
     },
     "metadata": {},
     "output_type": "display_data"
    }
   ],
   "source": [
    "from IPython.display import Image, display\n",
    "\n",
    "display(Image(app.get_graph().draw_mermaid_png()))\n"
   ]
  },
  {
   "cell_type": "code",
   "execution_count": 24,
   "id": "d9233ced",
   "metadata": {},
   "outputs": [
    {
     "name": "stdout",
     "output_type": "stream",
     "text": [
      "{'values': [1, 2, 3, 4], 'name': 'steve'}\n",
      "{'values': [1, 2, 3, 4], 'name': 'steve', 'result': 'Hi there steve! Your sum = 10'}\n"
     ]
    }
   ],
   "source": [
    "answers = app.invoke({\"values\" :[1,2,3,4],\"name\" : \"steve\"})"
   ]
  },
  {
   "cell_type": "code",
   "execution_count": 25,
   "id": "66602b45",
   "metadata": {},
   "outputs": [
    {
     "name": "stdout",
     "output_type": "stream",
     "text": [
      "Hi there steve! Your sum = 10\n"
     ]
    }
   ],
   "source": [
    "print(answers[\"result\"])"
   ]
  },
  {
   "cell_type": "code",
   "execution_count": null,
   "id": "d3c123e9",
   "metadata": {},
   "outputs": [],
   "source": [
    "\"\"\"---------------------\"\"\""
   ]
  },
  {
   "cell_type": "code",
   "execution_count": 27,
   "id": "2bde631b",
   "metadata": {},
   "outputs": [
    {
     "data": {
      "text/plain": [
       "'\\ninput: {\"name\"}:\"jack sparrow\", \"values\":[1,2,3,4], \"operation\":\"*\"}\\noutput: \"Hi jack sparrow! Your result = 24\"\\n'"
      ]
     },
     "execution_count": 27,
     "metadata": {},
     "output_type": "execute_result"
    }
   ],
   "source": [
    "#Task\n",
    "\n",
    "\"\"\"create a graph where u pass in a single list of integers \n",
    "along with a name and an operation. if operation is a \"+\", u\n",
    "add the elements and if its a \" * \", u multiply the elements,\n",
    "all within the same node\"\"\"\n",
    "\n",
    "\"\"\"\n",
    "input: {\"name\"}:\"jack sparrow\", \"values\":[1,2,3,4], \"operation\":\"*\"}\n",
    "output: \"Hi jack sparrow! Your result = 24\"\n",
    "\"\"\"\n",
    "\n"
   ]
  },
  {
   "cell_type": "code",
   "execution_count": 28,
   "id": "66062e7c",
   "metadata": {},
   "outputs": [],
   "source": [
    "class AgentState(TypedDict):\n",
    "    values: List[int]\n",
    "    name: str\n",
    "    operation: str\n",
    "    result: str"
   ]
  },
  {
   "cell_type": "code",
   "execution_count": 32,
   "id": "339ce5be",
   "metadata": {},
   "outputs": [],
   "source": [
    "def arithmetic_operations(state: AgentState) -> AgentState:\n",
    "    if state[\"operation\"] == \"+\":\n",
    "        state[\"result\"] = f\"Hi {state['name']} your result is {sum(state['values'])}\"\n",
    "    elif state[\"operation\"] == \"*\":\n",
    "        result = 1\n",
    "        for value in state['values']:\n",
    "            result *= value\n",
    "        state[\"result\"] = f\"Hi {state['name']} your result is {result}\"\n",
    "    return state\n"
   ]
  },
  {
   "cell_type": "code",
   "execution_count": 54,
   "id": "a6bfc647",
   "metadata": {},
   "outputs": [],
   "source": [
    "graph = StateGraph(AgentState)\n",
    "\n",
    "graph.add_node(\"arithmetic\", arithmetic_operations)\n",
    "\n",
    "graph.set_entry_point(\"arithmetic\")\n",
    "graph.set_finish_point(\"arithmetic\")\n",
    "\n",
    "app = graph.compile()\n"
   ]
  },
  {
   "cell_type": "code",
   "execution_count": 55,
   "id": "0e3a640f",
   "metadata": {},
   "outputs": [
    {
     "data": {
      "image/png": "[encoded data removed]",
      "text/plain": [
       "<IPython.core.display.Image object>"
      ]
     },
     "metadata": {},
     "output_type": "display_data"
    }
   ],
   "source": [
    "from IPython.display import Image, display\n",
    "\n",
    "display(Image(app.get_graph().draw_mermaid_png()))\n"
   ]
  },
  {
   "cell_type": "code",
   "execution_count": 56,
   "id": "035032fa",
   "metadata": {},
   "outputs": [],
   "source": [
    "multiply = app.invoke({\"values\" :[1,2,3,4],\"name\" : \"Jack Sparrow\", \"operation\":\"*\"})\n",
    "add = app.invoke({\"values\" :[1,2,3,4],\"name\" : \"Jack Sparrow\", \"operation\":\"+\"})\n"
   ]
  },
  {
   "cell_type": "code",
   "execution_count": 58,
   "id": "46b5402e",
   "metadata": {},
   "outputs": [
    {
     "name": "stdout",
     "output_type": "stream",
     "text": [
      "Hi Jack Sparrow your result is 24\n",
      "Hi Jack Sparrow your result is 10\n"
     ]
    }
   ],
   "source": [
    "print(multiply[\"result\"])\n",
    "print(add[\"result\"])"
   ]
  },
  {
   "cell_type": "code",
   "execution_count": null,
   "id": "1adaad2f",
   "metadata": {},
   "outputs": [],
   "source": []
  }
 ],
 "metadata": {
  "kernelspec": {
   "display_name": "Python 3",
   "language": "python",
   "name": "python3"
  },
  "language_info": {
   "codemirror_mode": {
    "name": "ipython",
    "version": 3
   },
   "file_extension": ".py",
   "mimetype": "text/x-python",
   "name": "python",
   "nbconvert_exporter": "python",
   "pygments_lexer": "ipython3",
   "version": "3.9.6"
  }
 },
 "nbformat": 4,
 "nbformat_minor": 5
}
