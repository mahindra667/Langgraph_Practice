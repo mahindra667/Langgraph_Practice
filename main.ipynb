{
 "cells": [
  {
   "cell_type": "code",
   "execution_count": 3,
   "id": "beeac321",
   "metadata": {},
   "outputs": [],
   "source": [
    "from typing import Dict, TypedDict\n",
    "from langgraph.graph import StateGraph #SG:- framework that helps design and execute stateful workflows\n",
    "\n"
   ]
  },
  {
   "cell_type": "code",
   "execution_count": 4,
   "id": "07f1d04a",
   "metadata": {},
   "outputs": [],
   "source": [
    "#AgentState- shared data structure that contains all the information needed to execute the workflow\n",
    "\n",
    "class AgentState(TypedDict):\n",
    "    messages: str\n",
    "\n",
    "def greeting_node(state: AgentState) -> AgentState:\n",
    "    \"\"\"Simple node that adds a greeting to the state\"\"\"\n",
    "\n",
    "    state[\"messages\"]= \"Hey \" + state[\"messages\"] + \", How is your day going?\"\n",
    "    return state\n"
   ]
  },
  {
   "cell_type": "code",
   "execution_count": 5,
   "id": "5696295d",
   "metadata": {},
   "outputs": [],
   "source": [
    "graph = StateGraph(AgentState)\n",
    "\n",
    "graph.add_node(\"greater\", greeting_node)\n",
    "\n",
    "graph.set_entry_point(\"greater\")\n",
    "graph.set_finish_point(\"greater\")\n",
    "\n",
    "app=graph.compile()\n"
   ]
  },
  {
   "cell_type": "code",
   "execution_count": 6,
   "id": "f0545a4d",
   "metadata": {},
   "outputs": [
    {
     "data": {
      "image/png": "[encoded data removed]",
      "text/plain": [
       "<IPython.core.display.Image object>"
      ]
     },
     "metadata": {},
     "output_type": "display_data"
    }
   ],
   "source": [
    "from IPython.display import Image, display\n",
    "\n",
    "display(Image(app.get_graph().draw_mermaid_png()))"
   ]
  },
  {
   "cell_type": "code",
   "execution_count": 9,
   "id": "c4190add",
   "metadata": {},
   "outputs": [],
   "source": [
    "result = app.invoke({\"messages\": \"Bob\"})"
   ]
  },
  {
   "cell_type": "code",
   "execution_count": 10,
   "id": "bcb76784",
   "metadata": {},
   "outputs": [
    {
     "data": {
      "text/plain": [
       "'Hey Bob, How is your day going?'"
      ]
     },
     "execution_count": 10,
     "metadata": {},
     "output_type": "execute_result"
    }
   ],
   "source": [
    "result[\"messages\"]"
   ]
  },
  {
   "cell_type": "code",
   "execution_count": 11,
   "id": "dd300383",
   "metadata": {},
   "outputs": [
    {
     "data": {
      "image/png": "[encoded data removed]",
      "text/plain": [
       "<IPython.core.display.Image object>"
      ]
     },
     "metadata": {},
     "output_type": "display_data"
    },
    {
     "data": {
      "text/plain": [
       "\"Bob, you're doing an amazing job learning langgraph!\""
      ]
     },
     "execution_count": 11,
     "metadata": {},
     "output_type": "execute_result"
    }
   ],
   "source": [
    "#task1\n",
    "#create a personalied compliment agent \n",
    "\n",
    "#input: {\"name\":\"Bob\"}\n",
    "\n",
    "#output: \"Bob, you're doing an amazing job learning langgraph!\"\n",
    "\n",
    "def compliment_node(state: AgentState) -> AgentState:\n",
    "\n",
    "    state[\"messages\"]= state[\"messages\"] + \", you're doing an amazing job learning langgraph!\"\n",
    "    return state\n",
    "\n",
    "graph = StateGraph(AgentState)\n",
    "\n",
    "graph.add_node(\"compliment\", compliment_node)\n",
    "\n",
    "graph.set_entry_point(\"compliment\")\n",
    "graph.set_finish_point(\"compliment\")\n",
    "\n",
    "app=graph.compile()\n",
    "\n",
    "from IPython.display import Image, display\n",
    "\n",
    "display(Image(app.get_graph().draw_mermaid_png()))\n",
    "result = app.invoke({\"messages\": \"Bob\"})\n",
    "result[\"messages\"]"
   ]
  },
  {
   "cell_type": "code",
   "execution_count": null,
   "id": "770bb6ef",
   "metadata": {},
   "outputs": [],
   "source": [
    "\"\"\"-----------------------------\"\"\""
   ]
  },
  {
   "cell_type": "code",
   "execution_count": null,
   "id": "7c97d244",
   "metadata": {},
   "outputs": [],
   "source": []
  }
 ],
 "metadata": {
  "kernelspec": {
   "display_name": "Python 3",
   "language": "python",
   "name": "python3"
  },
  "language_info": {
   "codemirror_mode": {
    "name": "ipython",
    "version": 3
   },
   "file_extension": ".py",
   "mimetype": "text/x-python",
   "name": "python",
   "nbconvert_exporter": "python",
   "pygments_lexer": "ipython3",
   "version": "3.9.6"
  }
 },
 "nbformat": 4,
 "nbformat_minor": 5
}
